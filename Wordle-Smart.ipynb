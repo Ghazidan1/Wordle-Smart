{
 "cells": [
  {
   "cell_type": "markdown",
   "id": "e5d58c8d",
   "metadata": {},
   "source": [
    "# Wordle Solution"
   ]
  },
  {
   "cell_type": "markdown",
   "id": "4cc72b25",
   "metadata": {},
   "source": [
    "## Read Data"
   ]
  },
  {
   "cell_type": "code",
   "execution_count": 1,
   "id": "eac8cc5f",
   "metadata": {},
   "outputs": [],
   "source": [
    "import pandas as pd"
   ]
  },
  {
   "cell_type": "code",
   "execution_count": 2,
   "id": "3511cc4c",
   "metadata": {},
   "outputs": [],
   "source": [
    "Words = pd.DataFrame(pd.read_csv(r'Data/wordle.csv'))"
   ]
  },
  {
   "cell_type": "code",
   "execution_count": 3,
   "id": "9c95150c",
   "metadata": {},
   "outputs": [],
   "source": [
    "primeNumbers=[2,3,5,7,11,13,17,19,23,29,31,37,41,43,47,53,59,61,67,71,73,79,83,89,97,101]"
   ]
  },
  {
   "cell_type": "markdown",
   "id": "0488f43b",
   "metadata": {},
   "source": [
    "## Get Input"
   ]
  },
  {
   "cell_type": "code",
   "execution_count": 4,
   "id": "bbe49c2c",
   "metadata": {},
   "outputs": [
    {
     "name": "stdout",
     "output_type": "stream",
     "text": [
      "Enter Valid Chars\tlat\n"
     ]
    }
   ],
   "source": [
    "In= input(\"Enter Valid Chars\\t\") #chracters in Word   gto"
   ]
  },
  {
   "cell_type": "code",
   "execution_count": 5,
   "id": "b3b84365",
   "metadata": {},
   "outputs": [
    {
     "name": "stdout",
     "output_type": "stream",
     "text": [
      "Enter Not Valid Chars\tgrefu\n"
     ]
    }
   ],
   "source": [
    "Out=input(\"Enter Not Valid Chars\\t\") #chracters out Word hyin"
   ]
  },
  {
   "cell_type": "code",
   "execution_count": 6,
   "id": "b55766cb",
   "metadata": {},
   "outputs": [
    {
     "name": "stdout",
     "output_type": "stream",
     "text": [
      "Enter Valid Templet\t0000t\n"
     ]
    }
   ],
   "source": [
    "Temp=input(\"Enter Valid Templet\\t\") # Templet g0t0o"
   ]
  },
  {
   "cell_type": "code",
   "execution_count": 7,
   "id": "ef96e117",
   "metadata": {},
   "outputs": [
    {
     "name": "stdout",
     "output_type": "stream",
     "text": [
      "Enter Not Valid Templet\t000a0\n",
      "0a0l0\n",
      "0\n"
     ]
    }
   ],
   "source": [
    "Nottemp=[]\n",
    "t=input(\"Enter Not Valid Templet\\t\")\n",
    "while t != '0':\n",
    "    Nottemp.append(t)\n",
    "    t=input()"
   ]
  },
  {
   "cell_type": "markdown",
   "id": "0273d5ae",
   "metadata": {},
   "source": [
    "## Processing "
   ]
  },
  {
   "cell_type": "code",
   "execution_count": 8,
   "id": "bc62e036",
   "metadata": {},
   "outputs": [],
   "source": [
    "def charToPrime(char):\n",
    "    return primeNumbers[(ord(char))-97] "
   ]
  },
  {
   "cell_type": "code",
   "execution_count": 9,
   "id": "3580d214",
   "metadata": {},
   "outputs": [],
   "source": [
    "def charsValue(chars):\n",
    "    sum=1\n",
    "    for i in chars:\n",
    "        sum*=charToPrime(i)\n",
    "    return sum"
   ]
  },
  {
   "cell_type": "code",
   "execution_count": 10,
   "id": "e32fd56c",
   "metadata": {},
   "outputs": [],
   "source": [
    "inValue=charsValue(In)\n",
    "outValue=[]\n",
    "for i in Out:\n",
    "    outValue.append(charToPrime(i))"
   ]
  },
  {
   "cell_type": "code",
   "execution_count": 11,
   "id": "0f9fd967",
   "metadata": {},
   "outputs": [],
   "source": [
    "newWords=[]\n",
    "for word in Words.itertuples():\n",
    "    if word[2] % inValue==0 :\n",
    "        for out in outValue:\n",
    "            if word[2] % out ==0:\n",
    "                break\n",
    "        else:\n",
    "            newWords.append(word[1])"
   ]
  },
  {
   "cell_type": "code",
   "execution_count": 12,
   "id": "7c29d5cf",
   "metadata": {},
   "outputs": [],
   "source": [
    "def checkTemp(word,template ):\n",
    "    for char,temp in zip(word,template):\n",
    "        if temp!='0'and char!=temp:\n",
    "            return False\n",
    "        continue\n",
    "    return True"
   ]
  },
  {
   "cell_type": "code",
   "execution_count": 13,
   "id": "001f1a8d",
   "metadata": {},
   "outputs": [],
   "source": [
    "tempWords=[]\n",
    "for word in newWords:\n",
    "    if checkTemp(word,Temp):\n",
    "        tempWords.append(word)"
   ]
  },
  {
   "cell_type": "code",
   "execution_count": 14,
   "id": "33555a9b",
   "metadata": {},
   "outputs": [],
   "source": [
    "finalWords=[]\n",
    "for word in tempWords:\n",
    "    check=True\n",
    "    for temp in Nottemp:\n",
    "        if checkTemp(word,temp):\n",
    "            check=False\n",
    "        continue\n",
    "    if check:\n",
    "        finalWords.append(word)"
   ]
  },
  {
   "cell_type": "markdown",
   "id": "74e1cfda",
   "metadata": {},
   "source": [
    "## Result"
   ]
  },
  {
   "cell_type": "code",
   "execution_count": 15,
   "id": "275ce6e7",
   "metadata": {},
   "outputs": [
    {
     "data": {
      "text/html": [
       "<div>\n",
       "<style scoped>\n",
       "    .dataframe tbody tr th:only-of-type {\n",
       "        vertical-align: middle;\n",
       "    }\n",
       "\n",
       "    .dataframe tbody tr th {\n",
       "        vertical-align: top;\n",
       "    }\n",
       "\n",
       "    .dataframe thead th {\n",
       "        text-align: right;\n",
       "    }\n",
       "</style>\n",
       "<table border=\"1\" class=\"dataframe\">\n",
       "  <thead>\n",
       "    <tr style=\"text-align: right;\">\n",
       "      <th></th>\n",
       "      <th>0</th>\n",
       "    </tr>\n",
       "  </thead>\n",
       "  <tbody>\n",
       "    <tr>\n",
       "      <th>0</th>\n",
       "      <td>alant</td>\n",
       "    </tr>\n",
       "    <tr>\n",
       "      <th>1</th>\n",
       "      <td>blast</td>\n",
       "    </tr>\n",
       "    <tr>\n",
       "      <th>2</th>\n",
       "      <td>blatt</td>\n",
       "    </tr>\n",
       "    <tr>\n",
       "      <th>3</th>\n",
       "      <td>clapt</td>\n",
       "    </tr>\n",
       "    <tr>\n",
       "      <th>4</th>\n",
       "      <td>clast</td>\n",
       "    </tr>\n",
       "    <tr>\n",
       "      <th>5</th>\n",
       "      <td>plait</td>\n",
       "    </tr>\n",
       "    <tr>\n",
       "      <th>6</th>\n",
       "      <td>shalt</td>\n",
       "    </tr>\n",
       "    <tr>\n",
       "      <th>7</th>\n",
       "      <td>alist</td>\n",
       "    </tr>\n",
       "    <tr>\n",
       "      <th>8</th>\n",
       "      <td>atilt</td>\n",
       "    </tr>\n",
       "    <tr>\n",
       "      <th>9</th>\n",
       "      <td>allot</td>\n",
       "    </tr>\n",
       "    <tr>\n",
       "      <th>10</th>\n",
       "      <td>plant</td>\n",
       "    </tr>\n",
       "    <tr>\n",
       "      <th>11</th>\n",
       "      <td>smalt</td>\n",
       "    </tr>\n",
       "    <tr>\n",
       "      <th>12</th>\n",
       "      <td>slant</td>\n",
       "    </tr>\n",
       "    <tr>\n",
       "      <th>13</th>\n",
       "      <td>loast</td>\n",
       "    </tr>\n",
       "    <tr>\n",
       "      <th>14</th>\n",
       "      <td>plast</td>\n",
       "    </tr>\n",
       "    <tr>\n",
       "      <th>15</th>\n",
       "      <td>spalt</td>\n",
       "    </tr>\n",
       "    <tr>\n",
       "      <th>16</th>\n",
       "      <td>platt</td>\n",
       "    </tr>\n",
       "  </tbody>\n",
       "</table>\n",
       "</div>"
      ],
      "text/plain": [
       "        0\n",
       "0   alant\n",
       "1   blast\n",
       "2   blatt\n",
       "3   clapt\n",
       "4   clast\n",
       "5   plait\n",
       "6   shalt\n",
       "7   alist\n",
       "8   atilt\n",
       "9   allot\n",
       "10  plant\n",
       "11  smalt\n",
       "12  slant\n",
       "13  loast\n",
       "14  plast\n",
       "15  spalt\n",
       "16  platt"
      ]
     },
     "execution_count": 15,
     "metadata": {},
     "output_type": "execute_result"
    }
   ],
   "source": [
    "pd.DataFrame(finalWords)"
   ]
  },
  {
   "cell_type": "code",
   "execution_count": null,
   "id": "a4f77034",
   "metadata": {},
   "outputs": [],
   "source": []
  }
 ],
 "metadata": {
  "kernelspec": {
   "display_name": "Python 3 (ipykernel)",
   "language": "python",
   "name": "python3"
  },
  "language_info": {
   "codemirror_mode": {
    "name": "ipython",
    "version": 3
   },
   "file_extension": ".py",
   "mimetype": "text/x-python",
   "name": "python",
   "nbconvert_exporter": "python",
   "pygments_lexer": "ipython3",
   "version": "3.9.7"
  }
 },
 "nbformat": 4,
 "nbformat_minor": 5
}
