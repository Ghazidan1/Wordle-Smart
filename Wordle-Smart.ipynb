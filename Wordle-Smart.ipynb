{
 "cells": [
  {
   "cell_type": "markdown",
   "id": "e5d58c8d",
   "metadata": {},
   "source": [
    "# Wordle Solution"
   ]
  },
  {
   "cell_type": "markdown",
   "id": "4cc72b25",
   "metadata": {},
   "source": [
    "## Read Data"
   ]
  },
  {
   "cell_type": "code",
   "execution_count": 1,
   "id": "eac8cc5f",
   "metadata": {},
   "outputs": [],
   "source": [
    "import pandas as pd"
   ]
  },
  {
   "cell_type": "code",
   "execution_count": 2,
   "id": "efdf5fc5",
   "metadata": {},
   "outputs": [],
   "source": [
    "from collections import Counter"
   ]
  },
  {
   "cell_type": "code",
   "execution_count": 3,
   "id": "3511cc4c",
   "metadata": {},
   "outputs": [],
   "source": [
    "Words = pd.DataFrame(pd.read_csv(r'Data/wordle.csv'))"
   ]
  },
  {
   "cell_type": "code",
   "execution_count": 4,
   "id": "9c95150c",
   "metadata": {},
   "outputs": [],
   "source": [
    "primeNumbers=[2,3,5,7,11,13,17,19,23,29,31,37,41,43,47,53,59,61,67,71,73,79,83,89,97,101]"
   ]
  },
  {
   "cell_type": "markdown",
   "id": "0488f43b",
   "metadata": {},
   "source": [
    "## Get Input"
   ]
  },
  {
   "cell_type": "code",
   "execution_count": 5,
   "id": "bbe49c2c",
   "metadata": {},
   "outputs": [
    {
     "name": "stdout",
     "output_type": "stream",
     "text": [
      "Enter Valid Chars\tta\n"
     ]
    }
   ],
   "source": [
    "In= input(\"Enter Valid Chars\\t\") #chracters in Word   gto"
   ]
  },
  {
   "cell_type": "code",
   "execution_count": 6,
   "id": "b3b84365",
   "metadata": {},
   "outputs": [
    {
     "name": "stdout",
     "output_type": "stream",
     "text": [
      "Enter Not Valid Chars\tgre\n"
     ]
    }
   ],
   "source": [
    "Out=input(\"Enter Not Valid Chars\\t\") #chracters out Word hyin"
   ]
  },
  {
   "cell_type": "code",
   "execution_count": 7,
   "id": "b55766cb",
   "metadata": {},
   "outputs": [
    {
     "name": "stdout",
     "output_type": "stream",
     "text": [
      "Enter Valid Templet\t0000t\n"
     ]
    }
   ],
   "source": [
    "Temp=input(\"Enter Valid Templet\\t\") # Templet g0t0o"
   ]
  },
  {
   "cell_type": "code",
   "execution_count": 8,
   "id": "ef96e117",
   "metadata": {},
   "outputs": [
    {
     "name": "stdout",
     "output_type": "stream",
     "text": [
      "Enter Not Valid Templet\t000a0\n",
      "0\n"
     ]
    }
   ],
   "source": [
    "Nottemp=[]\n",
    "t=input(\"Enter Not Valid Templet\\t\")\n",
    "while t != '0':\n",
    "    Nottemp.append(t)\n",
    "    t=input()"
   ]
  },
  {
   "cell_type": "markdown",
   "id": "0273d5ae",
   "metadata": {},
   "source": [
    "## Processing "
   ]
  },
  {
   "cell_type": "code",
   "execution_count": 9,
   "id": "bc62e036",
   "metadata": {},
   "outputs": [],
   "source": [
    "def charToPrime(char):\n",
    "    return primeNumbers[(ord(char))-97] "
   ]
  },
  {
   "cell_type": "code",
   "execution_count": 10,
   "id": "3580d214",
   "metadata": {},
   "outputs": [],
   "source": [
    "def charsValue(chars):\n",
    "    sum=1\n",
    "    for i in chars:\n",
    "        sum*=charToPrime(i)\n",
    "    return sum"
   ]
  },
  {
   "cell_type": "code",
   "execution_count": 11,
   "id": "7c29d5cf",
   "metadata": {},
   "outputs": [],
   "source": [
    "def checkTemp(word,template ):\n",
    "    for char,temp in zip(word,template):\n",
    "        if temp!='0'and char!=temp:\n",
    "            return False\n",
    "    return True"
   ]
  },
  {
   "cell_type": "code",
   "execution_count": 12,
   "id": "af5be133",
   "metadata": {},
   "outputs": [],
   "source": [
    "def checkNotTemp(word,template ):\n",
    "    for char,temp in zip(word,template):\n",
    "        if temp!='0'and char==temp:\n",
    "            return True\n",
    "    return False"
   ]
  },
  {
   "cell_type": "code",
   "execution_count": 13,
   "id": "e32fd56c",
   "metadata": {},
   "outputs": [],
   "source": [
    "inValue=charsValue(In)\n",
    "outValue=[]\n",
    "for i in Out:\n",
    "    outValue.append(charToPrime(i))"
   ]
  },
  {
   "cell_type": "code",
   "execution_count": 14,
   "id": "0f9fd967",
   "metadata": {},
   "outputs": [],
   "source": [
    "newWords=[]\n",
    "for word in Words.itertuples():\n",
    "    if word[2] % inValue==0 :\n",
    "        for out in outValue:\n",
    "            if word[2] % out ==0:\n",
    "                break\n",
    "        else:\n",
    "            newWords.append(word[1])"
   ]
  },
  {
   "cell_type": "code",
   "execution_count": 15,
   "id": "001f1a8d",
   "metadata": {},
   "outputs": [],
   "source": [
    "tempWords=[]\n",
    "for word in newWords:\n",
    "    if checkTemp(word,Temp):\n",
    "        tempWords.append(word)"
   ]
  },
  {
   "cell_type": "code",
   "execution_count": 16,
   "id": "33555a9b",
   "metadata": {},
   "outputs": [],
   "source": [
    "finalWords=[]\n",
    "for word in tempWords:\n",
    "    for temp in Nottemp:\n",
    "        if checkNotTemp(word,temp):\n",
    "            break\n",
    "    else:\n",
    "        finalWords.append(word)"
   ]
  },
  {
   "cell_type": "markdown",
   "id": "74e1cfda",
   "metadata": {},
   "source": [
    "## Result"
   ]
  },
  {
   "cell_type": "code",
   "execution_count": 17,
   "id": "275ce6e7",
   "metadata": {},
   "outputs": [
    {
     "data": {
      "text/html": [
       "<div>\n",
       "<style scoped>\n",
       "    .dataframe tbody tr th:only-of-type {\n",
       "        vertical-align: middle;\n",
       "    }\n",
       "\n",
       "    .dataframe tbody tr th {\n",
       "        vertical-align: top;\n",
       "    }\n",
       "\n",
       "    .dataframe thead th {\n",
       "        text-align: right;\n",
       "    }\n",
       "</style>\n",
       "<table border=\"1\" class=\"dataframe\">\n",
       "  <thead>\n",
       "    <tr style=\"text-align: right;\">\n",
       "      <th></th>\n",
       "      <th>0</th>\n",
       "    </tr>\n",
       "  </thead>\n",
       "  <tbody>\n",
       "    <tr>\n",
       "      <th>0</th>\n",
       "      <td>abaft</td>\n",
       "    </tr>\n",
       "    <tr>\n",
       "      <th>1</th>\n",
       "      <td>abbot</td>\n",
       "    </tr>\n",
       "    <tr>\n",
       "      <th>2</th>\n",
       "      <td>adapt</td>\n",
       "    </tr>\n",
       "    <tr>\n",
       "      <th>3</th>\n",
       "      <td>diact</td>\n",
       "    </tr>\n",
       "    <tr>\n",
       "      <th>4</th>\n",
       "      <td>adbot</td>\n",
       "    </tr>\n",
       "    <tr>\n",
       "      <th>...</th>\n",
       "      <td>...</td>\n",
       "    </tr>\n",
       "    <tr>\n",
       "      <th>97</th>\n",
       "      <td>vaunt</td>\n",
       "    </tr>\n",
       "    <tr>\n",
       "      <th>98</th>\n",
       "      <td>mayst</td>\n",
       "    </tr>\n",
       "    <tr>\n",
       "      <th>99</th>\n",
       "      <td>swapt</td>\n",
       "    </tr>\n",
       "    <tr>\n",
       "      <th>100</th>\n",
       "      <td>mazut</td>\n",
       "    </tr>\n",
       "    <tr>\n",
       "      <th>101</th>\n",
       "      <td>sayst</td>\n",
       "    </tr>\n",
       "  </tbody>\n",
       "</table>\n",
       "<p>102 rows × 1 columns</p>\n",
       "</div>"
      ],
      "text/plain": [
       "         0\n",
       "0    abaft\n",
       "1    abbot\n",
       "2    adapt\n",
       "3    diact\n",
       "4    adbot\n",
       "..     ...\n",
       "97   vaunt\n",
       "98   mayst\n",
       "99   swapt\n",
       "100  mazut\n",
       "101  sayst\n",
       "\n",
       "[102 rows x 1 columns]"
      ]
     },
     "execution_count": 17,
     "metadata": {},
     "output_type": "execute_result"
    }
   ],
   "source": [
    "pd.DataFrame(finalWords)"
   ]
  },
  {
   "cell_type": "markdown",
   "id": "93fcfd46",
   "metadata": {},
   "source": [
    "## Graph"
   ]
  },
  {
   "cell_type": "code",
   "execution_count": 18,
   "id": "76f24de9",
   "metadata": {},
   "outputs": [
    {
     "data": {
      "text/plain": [
       "<AxesSubplot:>"
      ]
     },
     "execution_count": 18,
     "metadata": {},
     "output_type": "execute_result"
    },
    {
     "data": {
      "image/png": "[encoded data removed]",
      "text/plain": [
       "<Figure size 640x480 with 1 Axes>"
      ]
     },
     "metadata": {},
     "output_type": "display_data"
    }
   ],
   "source": [
    "chars=[i for word in finalWords for i in word]\n",
    "letter_counts = Counter(chars)\n",
    "df = pd.DataFrame.from_dict(letter_counts, orient='index')\n",
    "df.plot(kind='bar', colormap ='Accent')"
   ]
  },
  {
   "cell_type": "markdown",
   "id": "42db009d",
   "metadata": {},
   "source": [
    "## Recommendation   "
   ]
  },
  {
   "cell_type": "code",
   "execution_count": 19,
   "id": "4e4d0898",
   "metadata": {},
   "outputs": [],
   "source": [
    "chardict=dict(letter_counts.most_common())\n",
    "charFreq=list(chardict.keys())"
   ]
  },
  {
   "cell_type": "code",
   "execution_count": 20,
   "id": "374823b6",
   "metadata": {},
   "outputs": [],
   "source": [
    "def wordValue(word):\n",
    "    sum=0;\n",
    "    for c in word:\n",
    "        sum+=int(chardict[c])\n",
    "    return sum"
   ]
  },
  {
   "cell_type": "code",
   "execution_count": 21,
   "id": "05308eef",
   "metadata": {},
   "outputs": [],
   "source": [
    "#sort Based on Char Frequency \n",
    "sortedFreq={}\n",
    "for word in finalWords:\n",
    "    sortedFreq[word]=wordValue(word)  \n",
    "sortedFreq=dict(sorted(sortedFreq.items(),key=lambda x:x[1],reverse=True))"
   ]
  },
  {
   "cell_type": "code",
   "execution_count": 22,
   "id": "691b21d1",
   "metadata": {},
   "outputs": [],
   "source": [
    "#sort Based on Chars count\n",
    "charscount={}\n",
    "for word in sortedFreq:\n",
    "    charscount[word]=len(set(word))\n",
    "charscount=dict(sorted(charscount.items(),key=lambda x:x[1], reverse=True))"
   ]
  },
  {
   "cell_type": "code",
   "execution_count": 23,
   "id": "a6290e2f",
   "metadata": {},
   "outputs": [
    {
     "name": "stdout",
     "output_type": "stream",
     "text": [
      "saint\t5\t316\n",
      "slant\t5\t316\n",
      "alist\t5\t314\n",
      "saunt\t5\t314\n",
      "salut\t5\t312\n",
      "sault\t5\t312\n",
      "loast\t5\t309\n",
      "canst\t5\t308\n",
      "scant\t5\t308\n",
      "clast\t5\t306\n",
      "spait\t5\t305\n",
      "plast\t5\t305\n",
      "spalt\t5\t305\n",
      "shalt\t5\t303\n",
      "absit\t5\t301\n",
      "blast\t5\t301\n",
      "ascot\t5\t301\n",
      "coast\t5\t301\n",
      "adust\t5\t300\n",
      "hoast\t5\t298\n",
      "boast\t5\t296\n",
      "sabot\t5\t296\n",
      "maist\t5\t295\n",
      "smalt\t5\t295\n",
      "inapt\t5\t294\n",
      "paint\t5\t294\n",
      "plant\t5\t294\n",
      "ahint\t5\t292\n",
      "haint\t5\t292\n",
      "hiant\t5\t292\n",
      "plait\t5\t292\n",
      "waist\t5\t292\n",
      "unapt\t5\t292\n",
      "daint\t5\t291\n",
      "idant\t5\t291\n",
      "hadst\t5\t291\n",
      "claut\t5\t291\n",
      "haunt\t5\t290\n",
      "daunt\t5\t289\n",
      "hault\t5\t288\n",
      "audit\t5\t287\n",
      "adult\t5\t287\n",
      "dault\t5\t287\n",
      "chant\t5\t284\n",
      "clapt\t5\t284\n",
      "faint\t5\t284\n",
      "shaft\t5\t284\n",
      "swapt\t5\t283\n",
      "caput\t5\t282\n",
      "diact\t5\t281\n",
      "about\t5\t281\n",
      "fault\t5\t280\n",
      "capot\t5\t279\n",
      "coapt\t5\t279\n",
      "shakt\t5\t279\n",
      "vaunt\t5\t279\n",
      "habit\t5\t277\n",
      "aloft\t5\t277\n",
      "vault\t5\t277\n",
      "jaunt\t5\t276\n",
      "ayont\t5\t276\n",
      "bahut\t5\t275\n",
      "adopt\t5\t275\n",
      "quant\t5\t275\n",
      "chapt\t5\t273\n",
      "mayst\t5\t273\n",
      "adbot\t5\t271\n",
      "admit\t5\t270\n",
      "ambit\t5\t269\n",
      "daynt\t5\t269\n",
      "davit\t5\t267\n",
      "kaput\t5\t266\n",
      "chaft\t5\t263\n",
      "yacht\t5\t260\n",
      "waift\t5\t260\n",
      "jabot\t5\t258\n",
      "amowt\t5\t255\n",
      "mazut\t5\t254\n",
      "toast\t4\t393\n",
      "scatt\t4\t390\n",
      "taint\t4\t387\n",
      "alant\t4\t385\n",
      "atilt\t4\t385\n",
      "taunt\t4\t385\n",
      "tacit\t4\t377\n",
      "platt\t4\t376\n",
      "avast\t4\t374\n",
      "skatt\t4\t374\n",
      "blatt\t4\t372\n",
      "avant\t4\t363\n",
      "adapt\t4\t362\n",
      "amaut\t4\t362\n",
      "await\t4\t361\n",
      "abaft\t4\t351\n",
      "saist\t4\t327\n",
      "assot\t4\t322\n",
      "sayst\t4\t305\n",
      "naunt\t4\t303\n",
      "allot\t4\t296\n",
      "coact\t4\t280\n",
      "afoot\t4\t272\n",
      "abbot\t4\t270\n"
     ]
    }
   ],
   "source": [
    "for word in charscount:\n",
    "    print(word,charscount[word],sortedFreq[word],sep='\\t')"
   ]
  },
  {
   "cell_type": "code",
   "execution_count": null,
   "id": "30cf26a4",
   "metadata": {},
   "outputs": [],
   "source": []
  }
 ],
 "metadata": {
  "kernelspec": {
   "display_name": "Python 3 (ipykernel)",
   "language": "python",
   "name": "python3"
  },
  "language_info": {
   "codemirror_mode": {
    "name": "ipython",
    "version": 3
   },
   "file_extension": ".py",
   "mimetype": "text/x-python",
   "name": "python",
   "nbconvert_exporter": "python",
   "pygments_lexer": "ipython3",
   "version": "3.9.7"
  }
 },
 "nbformat": 4,
 "nbformat_minor": 5
}
