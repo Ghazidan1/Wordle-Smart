{
 "cells": [
  {
   "cell_type": "markdown",
   "id": "e5d58c8d",
   "metadata": {},
   "source": [
    "# Wordle Solution"
   ]
  },
  {
   "cell_type": "markdown",
   "id": "4cc72b25",
   "metadata": {},
   "source": [
    "## Read Data"
   ]
  },
  {
   "cell_type": "code",
   "execution_count": 1,
   "id": "eac8cc5f",
   "metadata": {},
   "outputs": [],
   "source": [
    "import pandas as pd"
   ]
  },
  {
   "cell_type": "code",
   "execution_count": 2,
   "id": "3511cc4c",
   "metadata": {},
   "outputs": [],
   "source": [
    "Words = pd.DataFrame(pd.read_csv(r'Data/wordle.csv'))"
   ]
  },
  {
   "cell_type": "code",
   "execution_count": 3,
   "id": "9c95150c",
   "metadata": {},
   "outputs": [],
   "source": [
    "primeNumbers=[2,3,5,7,11,13,17,19,23,29,31,37,41,43,47,53,59,61,67,71,73,79,83,89,97,101]"
   ]
  },
  {
   "cell_type": "markdown",
   "id": "0488f43b",
   "metadata": {},
   "source": [
    "## Get Input"
   ]
  },
  {
   "cell_type": "code",
   "execution_count": 4,
   "id": "bbe49c2c",
   "metadata": {},
   "outputs": [
    {
     "name": "stdout",
     "output_type": "stream",
     "text": [
      "Enter Valid Chars\tlat\n"
     ]
    }
   ],
   "source": [
    "In= input(\"Enter Valid Chars\\t\") #chracters in Word   gto"
   ]
  },
  {
   "cell_type": "code",
   "execution_count": 5,
   "id": "b3b84365",
   "metadata": {},
   "outputs": [
    {
     "name": "stdout",
     "output_type": "stream",
     "text": [
      "Enter Not Valid Chars\tgrefu\n"
     ]
    }
   ],
   "source": [
    "Out=input(\"Enter Not Valid Chars\\t\") #chracters out Word hyin"
   ]
  },
  {
   "cell_type": "code",
   "execution_count": 6,
   "id": "b55766cb",
   "metadata": {},
   "outputs": [
    {
     "name": "stdout",
     "output_type": "stream",
     "text": [
      "Enter Valid Templet\t0000t\n"
     ]
    }
   ],
   "source": [
    "Temp=input(\"Enter Valid Templet\\t\") # Templet g0t0o"
   ]
  },
  {
   "cell_type": "code",
   "execution_count": 7,
   "id": "ef96e117",
   "metadata": {},
   "outputs": [
    {
     "name": "stdout",
     "output_type": "stream",
     "text": [
      "Enter Not Valid Templet\t000a0\n",
      "0a0l0\n",
      "0\n"
     ]
    }
   ],
   "source": [
    "Nottemp=[]\n",
    "t=input(\"Enter Not Valid Templet\\t\")\n",
    "while t != '0':\n",
    "    Nottemp.append(t)\n",
    "    t=input()"
   ]
  },
  {
   "cell_type": "markdown",
   "id": "0273d5ae",
   "metadata": {},
   "source": [
    "## Processing "
   ]
  },
  {
   "cell_type": "code",
   "execution_count": 8,
   "id": "3580d214",
   "metadata": {},
   "outputs": [],
   "source": [
    "def charsValue(chars):\n",
    "    sum=1\n",
    "    for i in chars:\n",
    "        sum*=primeNumbers[(ord(i))-97]\n",
    "    return sum"
   ]
  },
  {
   "cell_type": "code",
   "execution_count": 9,
   "id": "e32fd56c",
   "metadata": {},
   "outputs": [],
   "source": [
    "inValue=charsValue(In)\n",
    "outValue=charsValue(Out)"
   ]
  },
  {
   "cell_type": "code",
   "execution_count": 10,
   "id": "0f9fd967",
   "metadata": {},
   "outputs": [],
   "source": [
    "newWords=[]\n",
    "for word in Words.itertuples():\n",
    "    if word[2] % inValue==0 and word[2] % outValue!=0:\n",
    "        newWords.append(word[1])"
   ]
  },
  {
   "cell_type": "code",
   "execution_count": 11,
   "id": "7c29d5cf",
   "metadata": {},
   "outputs": [],
   "source": [
    "def checkTemp(word,template ):\n",
    "    for char,temp in zip(word,template):\n",
    "        if temp!='0'and char!=temp:\n",
    "            return False\n",
    "        continue\n",
    "    return True"
   ]
  },
  {
   "cell_type": "code",
   "execution_count": 12,
   "id": "001f1a8d",
   "metadata": {},
   "outputs": [],
   "source": [
    "tempWords=[]\n",
    "for word in newWords:\n",
    "    if checkTemp(word,Temp):\n",
    "        tempWords.append(word)"
   ]
  },
  {
   "cell_type": "code",
   "execution_count": 13,
   "id": "33555a9b",
   "metadata": {},
   "outputs": [],
   "source": [
    "finalWords=[]\n",
    "for word in tempWords:\n",
    "    check=True\n",
    "    for temp in Nottemp:\n",
    "        if checkTemp(word,temp):\n",
    "            check=False\n",
    "        continue\n",
    "    if check:\n",
    "        finalWords.append(word)"
   ]
  },
  {
   "cell_type": "markdown",
   "id": "74e1cfda",
   "metadata": {},
   "source": [
    "## Result"
   ]
  },
  {
   "cell_type": "code",
   "execution_count": 14,
   "id": "275ce6e7",
   "metadata": {},
   "outputs": [
    {
     "data": {
      "text/html": [
       "<div>\n",
       "<style scoped>\n",
       "    .dataframe tbody tr th:only-of-type {\n",
       "        vertical-align: middle;\n",
       "    }\n",
       "\n",
       "    .dataframe tbody tr th {\n",
       "        vertical-align: top;\n",
       "    }\n",
       "\n",
       "    .dataframe thead th {\n",
       "        text-align: right;\n",
       "    }\n",
       "</style>\n",
       "<table border=\"1\" class=\"dataframe\">\n",
       "  <thead>\n",
       "    <tr style=\"text-align: right;\">\n",
       "      <th></th>\n",
       "      <th>0</th>\n",
       "    </tr>\n",
       "  </thead>\n",
       "  <tbody>\n",
       "    <tr>\n",
       "      <th>0</th>\n",
       "      <td>ablet</td>\n",
       "    </tr>\n",
       "    <tr>\n",
       "      <th>1</th>\n",
       "      <td>lacet</td>\n",
       "    </tr>\n",
       "    <tr>\n",
       "      <th>2</th>\n",
       "      <td>dealt</td>\n",
       "    </tr>\n",
       "    <tr>\n",
       "      <th>3</th>\n",
       "      <td>alant</td>\n",
       "    </tr>\n",
       "    <tr>\n",
       "      <th>4</th>\n",
       "      <td>aleft</td>\n",
       "    </tr>\n",
       "    <tr>\n",
       "      <th>5</th>\n",
       "      <td>blart</td>\n",
       "    </tr>\n",
       "    <tr>\n",
       "      <th>6</th>\n",
       "      <td>aglet</td>\n",
       "    </tr>\n",
       "    <tr>\n",
       "      <th>7</th>\n",
       "      <td>blast</td>\n",
       "    </tr>\n",
       "    <tr>\n",
       "      <th>8</th>\n",
       "      <td>blatt</td>\n",
       "    </tr>\n",
       "    <tr>\n",
       "      <th>9</th>\n",
       "      <td>clapt</td>\n",
       "    </tr>\n",
       "    <tr>\n",
       "      <th>10</th>\n",
       "      <td>clart</td>\n",
       "    </tr>\n",
       "    <tr>\n",
       "      <th>11</th>\n",
       "      <td>clast</td>\n",
       "    </tr>\n",
       "    <tr>\n",
       "      <th>12</th>\n",
       "      <td>claut</td>\n",
       "    </tr>\n",
       "    <tr>\n",
       "      <th>13</th>\n",
       "      <td>leant</td>\n",
       "    </tr>\n",
       "    <tr>\n",
       "      <th>14</th>\n",
       "      <td>adult</td>\n",
       "    </tr>\n",
       "    <tr>\n",
       "      <th>15</th>\n",
       "      <td>leapt</td>\n",
       "    </tr>\n",
       "    <tr>\n",
       "      <th>16</th>\n",
       "      <td>palet</td>\n",
       "    </tr>\n",
       "    <tr>\n",
       "      <th>17</th>\n",
       "      <td>aloft</td>\n",
       "    </tr>\n",
       "    <tr>\n",
       "      <th>18</th>\n",
       "      <td>alert</td>\n",
       "    </tr>\n",
       "    <tr>\n",
       "      <th>19</th>\n",
       "      <td>least</td>\n",
       "    </tr>\n",
       "    <tr>\n",
       "      <th>20</th>\n",
       "      <td>salet</td>\n",
       "    </tr>\n",
       "    <tr>\n",
       "      <th>21</th>\n",
       "      <td>valet</td>\n",
       "    </tr>\n",
       "    <tr>\n",
       "      <th>22</th>\n",
       "      <td>exalt</td>\n",
       "    </tr>\n",
       "    <tr>\n",
       "      <th>23</th>\n",
       "      <td>plait</td>\n",
       "    </tr>\n",
       "    <tr>\n",
       "      <th>24</th>\n",
       "      <td>galut</td>\n",
       "    </tr>\n",
       "    <tr>\n",
       "      <th>25</th>\n",
       "      <td>shalt</td>\n",
       "    </tr>\n",
       "    <tr>\n",
       "      <th>26</th>\n",
       "      <td>liart</td>\n",
       "    </tr>\n",
       "    <tr>\n",
       "      <th>27</th>\n",
       "      <td>alist</td>\n",
       "    </tr>\n",
       "    <tr>\n",
       "      <th>28</th>\n",
       "      <td>atilt</td>\n",
       "    </tr>\n",
       "    <tr>\n",
       "      <th>29</th>\n",
       "      <td>allot</td>\n",
       "    </tr>\n",
       "    <tr>\n",
       "      <th>30</th>\n",
       "      <td>plant</td>\n",
       "    </tr>\n",
       "    <tr>\n",
       "      <th>31</th>\n",
       "      <td>larnt</td>\n",
       "    </tr>\n",
       "    <tr>\n",
       "      <th>32</th>\n",
       "      <td>smalt</td>\n",
       "    </tr>\n",
       "    <tr>\n",
       "      <th>33</th>\n",
       "      <td>slant</td>\n",
       "    </tr>\n",
       "    <tr>\n",
       "      <th>34</th>\n",
       "      <td>loast</td>\n",
       "    </tr>\n",
       "    <tr>\n",
       "      <th>35</th>\n",
       "      <td>plast</td>\n",
       "    </tr>\n",
       "    <tr>\n",
       "      <th>36</th>\n",
       "      <td>spalt</td>\n",
       "    </tr>\n",
       "    <tr>\n",
       "      <th>37</th>\n",
       "      <td>platt</td>\n",
       "    </tr>\n",
       "    <tr>\n",
       "      <th>38</th>\n",
       "      <td>slart</td>\n",
       "    </tr>\n",
       "    <tr>\n",
       "      <th>39</th>\n",
       "      <td>salut</td>\n",
       "    </tr>\n",
       "    <tr>\n",
       "      <th>40</th>\n",
       "      <td>lyart</td>\n",
       "    </tr>\n",
       "  </tbody>\n",
       "</table>\n",
       "</div>"
      ],
      "text/plain": [
       "        0\n",
       "0   ablet\n",
       "1   lacet\n",
       "2   dealt\n",
       "3   alant\n",
       "4   aleft\n",
       "5   blart\n",
       "6   aglet\n",
       "7   blast\n",
       "8   blatt\n",
       "9   clapt\n",
       "10  clart\n",
       "11  clast\n",
       "12  claut\n",
       "13  leant\n",
       "14  adult\n",
       "15  leapt\n",
       "16  palet\n",
       "17  aloft\n",
       "18  alert\n",
       "19  least\n",
       "20  salet\n",
       "21  valet\n",
       "22  exalt\n",
       "23  plait\n",
       "24  galut\n",
       "25  shalt\n",
       "26  liart\n",
       "27  alist\n",
       "28  atilt\n",
       "29  allot\n",
       "30  plant\n",
       "31  larnt\n",
       "32  smalt\n",
       "33  slant\n",
       "34  loast\n",
       "35  plast\n",
       "36  spalt\n",
       "37  platt\n",
       "38  slart\n",
       "39  salut\n",
       "40  lyart"
      ]
     },
     "execution_count": 14,
     "metadata": {},
     "output_type": "execute_result"
    }
   ],
   "source": [
    "pd.DataFrame(finalWords)"
   ]
  },
  {
   "cell_type": "code",
   "execution_count": null,
   "id": "a4f77034",
   "metadata": {},
   "outputs": [],
   "source": []
  }
 ],
 "metadata": {
  "kernelspec": {
   "display_name": "Python 3 (ipykernel)",
   "language": "python",
   "name": "python3"
  },
  "language_info": {
   "codemirror_mode": {
    "name": "ipython",
    "version": 3
   },
   "file_extension": ".py",
   "mimetype": "text/x-python",
   "name": "python",
   "nbconvert_exporter": "python",
   "pygments_lexer": "ipython3",
   "version": "3.9.7"
  }
 },
 "nbformat": 4,
 "nbformat_minor": 5
}
